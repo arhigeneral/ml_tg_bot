{
 "cells": [
  {
   "cell_type": "code",
   "execution_count": 7,
   "id": "d323129c",
   "metadata": {},
   "outputs": [],
   "source": [
    "import nltk\n",
    "import re\n",
    "import random"
   ]
  },
  {
   "cell_type": "code",
   "execution_count": 15,
   "id": "04b649ea",
   "metadata": {},
   "outputs": [],
   "source": [
    "def normalize(text): # drop upper register and punctuation marks\n",
    "    text = text.lower()\n",
    "    punctuation = r\"[^\\w\\s]\"\n",
    "    return re.sub(punctuation, \"\", text)\n",
    "    \n",
    "\n",
    "def isMatching(text1,text2): # watching is our texts same\n",
    "    text1 = normalize(text1)\n",
    "    text2 = normalize(text2)\n",
    "    distance = nltk.edit_distance(text1,text2)\n",
    "    average_length = (len(text1)+len(text2))/2\n",
    "    return distance/average_length < 0.4\n",
    "\n",
    "def getIntent(text):\n",
    "    all_intents = BOT_CONFIG[\"intents\"]\n",
    "    for name, data in all_intents.items():\n",
    "        for example in data[\"examples\"]:\n",
    "            if isMatching(text, example):\n",
    "                return name\n",
    "\n",
    "def getAnswer(intent):\n",
    "    responses = BOT_CONFIG[\"intents\"][intent][\"responses\"]\n",
    "    return random.choice(responses)\n",
    "\n",
    "def bot(text):\n",
    "    intent = getIntent(text)\n",
    "    \n",
    "    if not intent:\n",
    "        pass\n",
    "    print('Intent = ', intent)\n",
    "    \n",
    "    if intent:\n",
    "        return getAnswe(intent)\n",
    "    \n",
    "    failure_phrases = BOT_CONFIG['failure_phrases']"
   ]
  },
  {
   "cell_type": "code",
   "execution_count": 8,
   "id": "1423780e",
   "metadata": {},
   "outputs": [],
   "source": [
    "database = [\n",
    "    {\n",
    "        \"question\": \"Как дела\",\n",
    "        \"answer\": [\"Как обычно все клубнично\", \"Так же как и у тебя!\", \"брах\"]\n",
    "    },\n",
    "    {\n",
    "        \"question\": \"Как тебя зовут\",\n",
    "        \"answer\": [\"Тя волновать не должно\", \"Ты что дурак, я просто скрипт, меня никак не зовут!\", \"Называй как тебе угодно\"]\n",
    "    },\n",
    "    {\n",
    "        \"question\": \"Какого цвета небо\",\n",
    "        \"answer\": [\"Того же, что и твоя ориентация)\", \"Для такого тебе бы в гугл лучше зайти)\"]\n",
    "    }\n",
    "]"
   ]
  },
  {
   "cell_type": "code",
   "execution_count": 10,
   "id": "9b369761",
   "metadata": {},
   "outputs": [
    {
     "name": "stdout",
     "output_type": "stream",
     "text": [
      "Как дела\n",
      "брах\n"
     ]
    }
   ],
   "source": [
    "question = input()\n",
    "for pair in database:\n",
    "    if matchText(question, pair[\"question\"]) < 0.4:\n",
    "        answer = random.choice(pair[\"answer\"])\n",
    "        print(answer)"
   ]
  },
  {
   "cell_type": "code",
   "execution_count": 12,
   "id": "a42948e8",
   "metadata": {},
   "outputs": [],
   "source": [
    "BOT_CONFIG = {\n",
    "    \"intents\":{\n",
    "        \"hello\":{\n",
    "            \"examples\":[\"Привет\",\"Првиетики\",\"Дарова\",\"Здравствуйте\"],\n",
    "            \"responses\":[\"Доброе утро Вьетнам\",\"Кчау\",\"Йоу\",\"Алоха\"]\n",
    "        },\n",
    "        \"bye\":{\n",
    "            \"examples\":[\"Пока\",\"До свидания\",\"Прощай\",\"Шуруй\"],\n",
    "            \"responses\":[\"Счастливо\",\"До свидания\",\"Возвращайтесь\",\"Эх....\"]\n",
    "        },\n",
    "        \"how_are_you\":{\n",
    "            \"examples\":[\"Как дела\",\"Что делаешь\",\"Йоу че как\",\"Как сам\"],\n",
    "            \"responses\":[\"Ниче так\",\"Совершенствуюсь\",\"Учусь\",\"Верчусь\"]\n",
    "        }\n",
    "    },\n",
    "    \"failure_phrases\":[\"Моя твоя непонимать!\"]\n",
    "}"
   ]
  },
  {
   "cell_type": "code",
   "execution_count": 14,
   "id": "0292bf9e",
   "metadata": {},
   "outputs": [
    {
     "data": {
      "text/plain": [
       "'how_are_you'"
      ]
     },
     "execution_count": 14,
     "metadata": {},
     "output_type": "execute_result"
    }
   ],
   "source": [
    "getIntent(\"Как дела\")"
   ]
  },
  {
   "cell_type": "code",
   "execution_count": 17,
   "id": "1b0678c8",
   "metadata": {},
   "outputs": [
    {
     "data": {
      "text/plain": [
       "'Верчусь'"
      ]
     },
     "execution_count": 17,
     "metadata": {},
     "output_type": "execute_result"
    }
   ],
   "source": [
    "getAnswer(getIntent(\"Как дела\"))"
   ]
  },
  {
   "cell_type": "code",
   "execution_count": null,
   "id": "1876b298",
   "metadata": {},
   "outputs": [],
   "source": []
  }
 ],
 "metadata": {
  "kernelspec": {
   "display_name": "Python 3",
   "language": "python",
   "name": "python3"
  },
  "language_info": {
   "codemirror_mode": {
    "name": "ipython",
    "version": 3
   },
   "file_extension": ".py",
   "mimetype": "text/x-python",
   "name": "python",
   "nbconvert_exporter": "python",
   "pygments_lexer": "ipython3",
   "version": "3.8.8"
  }
 },
 "nbformat": 4,
 "nbformat_minor": 5
}
