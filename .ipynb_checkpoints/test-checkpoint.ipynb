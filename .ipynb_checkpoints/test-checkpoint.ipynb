{
 "cells": [
  {
   "cell_type": "code",
   "execution_count": 7,
   "id": "d323129c",
   "metadata": {},
   "outputs": [],
   "source": [
    "import nltk\n",
    "import re\n",
    "import random"
   ]
  },
  {
   "cell_type": "code",
   "execution_count": 4,
   "id": "04b649ea",
   "metadata": {},
   "outputs": [],
   "source": [
    "def filter(text): # drop upper register and punctuation marks\n",
    "    text = text.lower()\n",
    "    punctuation = r\"\\W\"\n",
    "    return re.sub(punctuation, \"\", text)\n",
    "    \n",
    "\n",
    "def matchText(text1,text2): # watching is our texts same\n",
    "    text1 = filter(text1)\n",
    "    text2 = filter(text2)\n",
    "    distance = nltk.edit_distance(text1,text2)\n",
    "    average_length = (len(text1)+len(text2))/2\n",
    "    return distance/average_length"
   ]
  },
  {
   "cell_type": "code",
   "execution_count": 5,
   "id": "1423780e",
   "metadata": {},
   "outputs": [],
   "source": [
    "database = [\n",
    "    {\n",
    "        \"question\": \"Как дела\",\n",
    "        \"answer\": [\"Как обычно все клубнично\", \"\"]\n",
    "    },\n",
    "    {\n",
    "        \"question\": \"Как тебя зовут\",\n",
    "        \"answer\": [\"Тя волновать не должно\"]\n",
    "    },\n",
    "    {\n",
    "        \"question\": \"Какого цвета небо\",\n",
    "        \"answer\": [\"Того же, что и твоя ориентация)\"]\n",
    "    }\n",
    "]"
   ]
  },
  {
   "cell_type": "code",
   "execution_count": 6,
   "id": "c0b382aa",
   "metadata": {},
   "outputs": [
    {
     "name": "stdout",
     "output_type": "stream",
     "text": [
      "Как дела\n",
      "Как обычно все клубнично\n"
     ]
    }
   ],
   "source": [
    "question = input()\n",
    "for pair in database:\n",
    "    if matchText(question, pair[\"question\"]) < 0.4:\n",
    "        answer = random.choice(pair[\"answer\"])\n",
    "        print(answer)"
   ]
  },
  {
   "cell_type": "code",
   "execution_count": null,
   "id": "62eff19c",
   "metadata": {},
   "outputs": [],
   "source": []
  }
 ],
 "metadata": {
  "kernelspec": {
   "display_name": "Python 3",
   "language": "python",
   "name": "python3"
  },
  "language_info": {
   "codemirror_mode": {
    "name": "ipython",
    "version": 3
   },
   "file_extension": ".py",
   "mimetype": "text/x-python",
   "name": "python",
   "nbconvert_exporter": "python",
   "pygments_lexer": "ipython3",
   "version": "3.8.8"
  }
 },
 "nbformat": 4,
 "nbformat_minor": 5
}
